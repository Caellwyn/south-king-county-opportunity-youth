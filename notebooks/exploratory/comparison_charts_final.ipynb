{
 "cells": [
  {
   "cell_type": "markdown",
   "metadata": {},
   "source": [
    "# 2016 v. 2017 Opporunity Youth Visualizations\n",
    "\n",
    "#### This notebook contains a set of visualizations by category and age, and another visualization depicting a trend between the two years."
   ]
  },
  {
   "cell_type": "markdown",
   "metadata": {},
   "source": [
    "## 2016 v. 2017 Youth and Opportunity Youth by Age Group Visualizations\n",
    "\n",
    "#### We've made the following bar graphs to do a comparison between the 2016 and 2017 results. Given that the 2016 and 2017 sample population size differed, we chose to show these results in percentage to provide a more accurate comparison.\n",
    "\n",
    "#### The comparisons by category are broken up into three age ranges."
   ]
  },
  {
   "cell_type": "markdown",
   "metadata": {},
   "source": [
    "### Import Libraries and Data"
   ]
  },
  {
   "cell_type": "code",
   "execution_count": 2,
   "metadata": {},
   "outputs": [],
   "source": [
    "import pandas as pd\n",
    "import numpy as np\n",
    "import matplotlib.pyplot as plt"
   ]
  },
  {
   "cell_type": "markdown",
   "metadata": {},
   "source": [
    "### Import Data and Turn Data Frames into Dictionaries"
   ]
  },
  {
   "cell_type": "markdown",
   "metadata": {},
   "source": [
    "### 2016\n"
   ]
  },
  {
   "cell_type": "code",
   "execution_count": 3,
   "metadata": {},
   "outputs": [
    {
     "data": {
      "text/html": [
       "<div>\n",
       "<style scoped>\n",
       "    .dataframe tbody tr th:only-of-type {\n",
       "        vertical-align: middle;\n",
       "    }\n",
       "\n",
       "    .dataframe tbody tr th {\n",
       "        vertical-align: top;\n",
       "    }\n",
       "\n",
       "    .dataframe thead th {\n",
       "        text-align: right;\n",
       "    }\n",
       "</style>\n",
       "<table border=\"1\" class=\"dataframe\">\n",
       "  <thead>\n",
       "    <tr style=\"text-align: right;\">\n",
       "      <th></th>\n",
       "      <th>Category</th>\n",
       "      <th>16-18</th>\n",
       "      <th>%16-18</th>\n",
       "      <th>19-21</th>\n",
       "      <th>%19-21</th>\n",
       "      <th>22-24</th>\n",
       "      <th>%22-24</th>\n",
       "      <th>Totals</th>\n",
       "      <th>%Totals</th>\n",
       "    </tr>\n",
       "  </thead>\n",
       "  <tbody>\n",
       "    <tr>\n",
       "      <th>0</th>\n",
       "      <td>Total Population</td>\n",
       "      <td>50,053</td>\n",
       "      <td>100</td>\n",
       "      <td>41,651</td>\n",
       "      <td>100</td>\n",
       "      <td>48,031</td>\n",
       "      <td>100</td>\n",
       "      <td>139,735</td>\n",
       "      <td>100</td>\n",
       "    </tr>\n",
       "    <tr>\n",
       "      <th>1</th>\n",
       "      <td>Opportunity Youth</td>\n",
       "      <td>2,805</td>\n",
       "      <td>6</td>\n",
       "      <td>7,284</td>\n",
       "      <td>17</td>\n",
       "      <td>8,728</td>\n",
       "      <td>18</td>\n",
       "      <td>18,817</td>\n",
       "      <td>13</td>\n",
       "    </tr>\n",
       "    <tr>\n",
       "      <th>2</th>\n",
       "      <td>Working No Diploma</td>\n",
       "      <td>587</td>\n",
       "      <td>1</td>\n",
       "      <td>2,049</td>\n",
       "      <td>5</td>\n",
       "      <td>2,877</td>\n",
       "      <td>6</td>\n",
       "      <td>5,513</td>\n",
       "      <td>4</td>\n",
       "    </tr>\n",
       "    <tr>\n",
       "      <th>3</th>\n",
       "      <td>Not Opportunity Youth</td>\n",
       "      <td>4661</td>\n",
       "      <td>93</td>\n",
       "      <td>32,318</td>\n",
       "      <td>78</td>\n",
       "      <td>36,426</td>\n",
       "      <td>76</td>\n",
       "      <td>115,405</td>\n",
       "      <td>83</td>\n",
       "    </tr>\n",
       "  </tbody>\n",
       "</table>\n",
       "</div>"
      ],
      "text/plain": [
       "                Category   16-18  %16-18   19-21  %19-21   22-24  %22-24  \\\n",
       "0       Total Population  50,053     100  41,651     100  48,031     100   \n",
       "1      Opportunity Youth   2,805       6   7,284      17   8,728      18   \n",
       "2     Working No Diploma     587       1   2,049       5   2,877       6   \n",
       "3  Not Opportunity Youth    4661      93  32,318      78  36,426      76   \n",
       "\n",
       "    Totals  %Totals  \n",
       "0  139,735      100  \n",
       "1   18,817       13  \n",
       "2    5,513        4  \n",
       "3  115,405       83  "
      ]
     },
     "execution_count": 3,
     "metadata": {},
     "output_type": "execute_result"
    }
   ],
   "source": [
    "#2016 data\n",
    "df_totals_16 = pd.read_csv('tables/total_youth_2016_data.csv')\n",
    "df_oy_16 = pd.read_csv('tables/oy_ed_2016_data.csv')\n",
    "df_totals_16"
   ]
  },
  {
   "cell_type": "code",
   "execution_count": 16,
   "metadata": {},
   "outputs": [],
   "source": [
    "oy_age_totals_16 = {\n",
    "    '16-18': df_totals_16.loc[1,'%16-18'],\n",
    "    '19-21': df_totals_16.loc[1,'%19-21'],\n",
    "    '22-24': df_totals_16.loc[1,'%22-24'],\n",
    "    'Total': df_totals_16.loc[1,'%Totals']}\n",
    "\n",
    "wnd_age_totals_16 = {\n",
    "    '16-18': df_totals_16.loc[2,'%16-18'],\n",
    "    '19-21': df_totals_16.loc[2,'%19-21'],\n",
    "    '22-24': df_totals_16.loc[2,'%22-24'],\n",
    "    'Total': df_totals_16.loc[2,'%Totals']}\n",
    "\n",
    "noy_age_totals_16 = {\n",
    "    '16-18': df_totals_16.loc[3,'%16-18'],\n",
    "    '19-21': df_totals_16.loc[3,'%19-21'],\n",
    "    '22-24': df_totals_16.loc[3,'%22-24'],\n",
    "    'Total': df_totals_16.loc[3,'%Totals']}"
   ]
  },
  {
   "cell_type": "code",
   "execution_count": 5,
   "metadata": {},
   "outputs": [
    {
     "data": {
      "text/html": [
       "<div>\n",
       "<style scoped>\n",
       "    .dataframe tbody tr th:only-of-type {\n",
       "        vertical-align: middle;\n",
       "    }\n",
       "\n",
       "    .dataframe tbody tr th {\n",
       "        vertical-align: top;\n",
       "    }\n",
       "\n",
       "    .dataframe thead th {\n",
       "        text-align: right;\n",
       "    }\n",
       "</style>\n",
       "<table border=\"1\" class=\"dataframe\">\n",
       "  <thead>\n",
       "    <tr style=\"text-align: right;\">\n",
       "      <th></th>\n",
       "      <th>Category</th>\n",
       "      <th>16-18</th>\n",
       "      <th>%16-18</th>\n",
       "      <th>19-21</th>\n",
       "      <th>%19-21</th>\n",
       "      <th>22-24</th>\n",
       "      <th>%22-24</th>\n",
       "      <th>Totals</th>\n",
       "      <th>%Totals</th>\n",
       "    </tr>\n",
       "  </thead>\n",
       "  <tbody>\n",
       "    <tr>\n",
       "      <th>0</th>\n",
       "      <td>Total OY</td>\n",
       "      <td>2,805</td>\n",
       "      <td>100</td>\n",
       "      <td>7,284</td>\n",
       "      <td>100</td>\n",
       "      <td>8,728</td>\n",
       "      <td>100</td>\n",
       "      <td>18,817</td>\n",
       "      <td>100</td>\n",
       "    </tr>\n",
       "    <tr>\n",
       "      <th>1</th>\n",
       "      <td>No diploma</td>\n",
       "      <td>1,610</td>\n",
       "      <td>57</td>\n",
       "      <td>2,048</td>\n",
       "      <td>28</td>\n",
       "      <td>1,981</td>\n",
       "      <td>23</td>\n",
       "      <td>5,639</td>\n",
       "      <td>30</td>\n",
       "    </tr>\n",
       "    <tr>\n",
       "      <th>2</th>\n",
       "      <td>HS diploma or GED</td>\n",
       "      <td>985</td>\n",
       "      <td>35</td>\n",
       "      <td>3,349</td>\n",
       "      <td>46</td>\n",
       "      <td>3,067</td>\n",
       "      <td>35</td>\n",
       "      <td>7,401</td>\n",
       "      <td>39</td>\n",
       "    </tr>\n",
       "    <tr>\n",
       "      <th>3</th>\n",
       "      <td>Some college, no degree</td>\n",
       "      <td>179</td>\n",
       "      <td>6</td>\n",
       "      <td>1,666</td>\n",
       "      <td>23</td>\n",
       "      <td>1,763</td>\n",
       "      <td>20</td>\n",
       "      <td>3,608</td>\n",
       "      <td>19</td>\n",
       "    </tr>\n",
       "    <tr>\n",
       "      <th>4</th>\n",
       "      <td>Degree(AA or higher)</td>\n",
       "      <td>31</td>\n",
       "      <td>1</td>\n",
       "      <td>221</td>\n",
       "      <td>3</td>\n",
       "      <td>1917</td>\n",
       "      <td>22</td>\n",
       "      <td>2169</td>\n",
       "      <td>12</td>\n",
       "    </tr>\n",
       "  </tbody>\n",
       "</table>\n",
       "</div>"
      ],
      "text/plain": [
       "                  Category  16-18  %16-18  19-21  %19-21  22-24  %22-24  \\\n",
       "0                 Total OY  2,805     100  7,284     100  8,728     100   \n",
       "1               No diploma  1,610      57  2,048      28  1,981      23   \n",
       "2        HS diploma or GED    985      35  3,349      46  3,067      35   \n",
       "3  Some college, no degree    179       6  1,666      23  1,763      20   \n",
       "4     Degree(AA or higher)     31       1    221       3   1917      22   \n",
       "\n",
       "   Totals  %Totals  \n",
       "0  18,817      100  \n",
       "1   5,639       30  \n",
       "2   7,401       39  \n",
       "3   3,608       19  \n",
       "4    2169       12  "
      ]
     },
     "execution_count": 5,
     "metadata": {},
     "output_type": "execute_result"
    }
   ],
   "source": [
    "df_oy_16"
   ]
  },
  {
   "cell_type": "code",
   "execution_count": 7,
   "metadata": {},
   "outputs": [],
   "source": [
    "oy_age_nd_16 = {\n",
    "    '16-18': df_oy_16.loc[1,'%16-18'],\n",
    "    '19-21': df_oy_16.loc[1,'%19-21'],\n",
    "    '22-24': df_oy_16.loc[1,'%22-24'],\n",
    "    'Total': df_oy_16.loc[1,'%Totals']}\n",
    "\n",
    "oy_age_hs_16 = {\n",
    "    '16-18': df_oy_16.loc[2,'%16-18'],\n",
    "    '19-21': df_oy_16.loc[2,'%19-21'],\n",
    "    '22-24': df_oy_16.loc[2,'%22-24'],\n",
    "    'Total': df_oy_16.loc[2,'%Totals']}\n",
    "\n",
    "oy_age_sc_16 = {\n",
    "    '16-18': df_oy_16.loc[3,'%16-18'],\n",
    "    '19-21': df_oy_16.loc[3,'%19-21'],\n",
    "    '22-24': df_oy_16.loc[3,'%22-24'],\n",
    "    'Total': df_oy_16.loc[3,'%Totals']}\n",
    "\n",
    "oy_age_yd_16 = {\n",
    "    '16-18': df_oy_16.loc[4,'%16-18'],\n",
    "    '19-21': df_oy_16.loc[4,'%19-21'],\n",
    "    '22-24': df_oy_16.loc[4,'%22-24'],\n",
    "    'Total': df_oy_16.loc[4,'%Totals']}\n"
   ]
  },
  {
   "cell_type": "markdown",
   "metadata": {},
   "source": [
    "## 2017"
   ]
  },
  {
   "cell_type": "code",
   "execution_count": 8,
   "metadata": {},
   "outputs": [],
   "source": [
    "#2017 data\n",
    "df_totals_17 =pd.read_csv('tables/total_population.csv')\n",
    "df_oy_17 = pd.read_csv('tables/opportunity_youth.csv')"
   ]
  },
  {
   "cell_type": "code",
   "execution_count": 9,
   "metadata": {},
   "outputs": [
    {
     "data": {
      "text/html": [
       "<div>\n",
       "<style scoped>\n",
       "    .dataframe tbody tr th:only-of-type {\n",
       "        vertical-align: middle;\n",
       "    }\n",
       "\n",
       "    .dataframe tbody tr th {\n",
       "        vertical-align: top;\n",
       "    }\n",
       "\n",
       "    .dataframe thead th {\n",
       "        text-align: right;\n",
       "    }\n",
       "</style>\n",
       "<table border=\"1\" class=\"dataframe\">\n",
       "  <thead>\n",
       "    <tr style=\"text-align: right;\">\n",
       "      <th></th>\n",
       "      <th>Unnamed: 0</th>\n",
       "      <th>16-18</th>\n",
       "      <th>%16-18</th>\n",
       "      <th>19-21</th>\n",
       "      <th>%19-21</th>\n",
       "      <th>22-24</th>\n",
       "      <th>%22-24</th>\n",
       "      <th>Totals</th>\n",
       "      <th>%Total</th>\n",
       "    </tr>\n",
       "  </thead>\n",
       "  <tbody>\n",
       "    <tr>\n",
       "      <th>0</th>\n",
       "      <td>Total Population</td>\n",
       "      <td>33791.0</td>\n",
       "      <td>100.00</td>\n",
       "      <td>29915.0</td>\n",
       "      <td>100.00</td>\n",
       "      <td>36277.0</td>\n",
       "      <td>100.00</td>\n",
       "      <td>99983.0</td>\n",
       "      <td>100.00</td>\n",
       "    </tr>\n",
       "    <tr>\n",
       "      <th>1</th>\n",
       "      <td>Opportunity Youth</td>\n",
       "      <td>1941.0</td>\n",
       "      <td>5.74</td>\n",
       "      <td>4361.0</td>\n",
       "      <td>14.58</td>\n",
       "      <td>5228.0</td>\n",
       "      <td>14.41</td>\n",
       "      <td>11530.0</td>\n",
       "      <td>11.53</td>\n",
       "    </tr>\n",
       "    <tr>\n",
       "      <th>2</th>\n",
       "      <td>Working Without Diploma</td>\n",
       "      <td>449.0</td>\n",
       "      <td>1.33</td>\n",
       "      <td>1539.0</td>\n",
       "      <td>5.14</td>\n",
       "      <td>1737.0</td>\n",
       "      <td>4.79</td>\n",
       "      <td>3725.0</td>\n",
       "      <td>3.73</td>\n",
       "    </tr>\n",
       "    <tr>\n",
       "      <th>3</th>\n",
       "      <td>Not an Opportunity Youth</td>\n",
       "      <td>31850.0</td>\n",
       "      <td>94.26</td>\n",
       "      <td>25554.0</td>\n",
       "      <td>85.42</td>\n",
       "      <td>31049.0</td>\n",
       "      <td>85.59</td>\n",
       "      <td>88453.0</td>\n",
       "      <td>88.47</td>\n",
       "    </tr>\n",
       "  </tbody>\n",
       "</table>\n",
       "</div>"
      ],
      "text/plain": [
       "                 Unnamed: 0    16-18  %16-18    19-21  %19-21    22-24  \\\n",
       "0          Total Population  33791.0  100.00  29915.0  100.00  36277.0   \n",
       "1         Opportunity Youth   1941.0    5.74   4361.0   14.58   5228.0   \n",
       "2   Working Without Diploma    449.0    1.33   1539.0    5.14   1737.0   \n",
       "3  Not an Opportunity Youth  31850.0   94.26  25554.0   85.42  31049.0   \n",
       "\n",
       "   %22-24   Totals  %Total  \n",
       "0  100.00  99983.0  100.00  \n",
       "1   14.41  11530.0   11.53  \n",
       "2    4.79   3725.0    3.73  \n",
       "3   85.59  88453.0   88.47  "
      ]
     },
     "execution_count": 9,
     "metadata": {},
     "output_type": "execute_result"
    }
   ],
   "source": [
    "df_totals_17"
   ]
  },
  {
   "cell_type": "code",
   "execution_count": 10,
   "metadata": {},
   "outputs": [],
   "source": [
    "oy_age_totals = {\n",
    "    '16-18': df_totals_17.loc[1,'%16-18'],\n",
    "    '19-21': df_totals_17.loc[1,'%19-21'],\n",
    "    '22-24': df_totals_17.loc[1,'%22-24'],\n",
    "    'Total': df_totals_17.loc[1,'%Total']}\n",
    "\n",
    "wnd_age_totals = {\n",
    "    '16-18': df_totals_17.loc[2,'%16-18'],\n",
    "    '19-21': df_totals_17.loc[2,'%19-21'],\n",
    "    '22-24': df_totals_17.loc[2,'%22-24'],\n",
    "    'Total': df_totals_17.loc[2,'%Total']}\n",
    "\n",
    "noy_age_totals = {\n",
    "    '16-18': df_totals_17.loc[3,'%16-18'],\n",
    "    '19-21': df_totals_17.loc[3,'%19-21'],\n",
    "    '22-24': df_totals_17.loc[3,'%22-24'],\n",
    "    'Total': df_totals_17.loc[3,'%Total']}"
   ]
  },
  {
   "cell_type": "code",
   "execution_count": 11,
   "metadata": {},
   "outputs": [
    {
     "data": {
      "text/html": [
       "<div>\n",
       "<style scoped>\n",
       "    .dataframe tbody tr th:only-of-type {\n",
       "        vertical-align: middle;\n",
       "    }\n",
       "\n",
       "    .dataframe tbody tr th {\n",
       "        vertical-align: top;\n",
       "    }\n",
       "\n",
       "    .dataframe thead th {\n",
       "        text-align: right;\n",
       "    }\n",
       "</style>\n",
       "<table border=\"1\" class=\"dataframe\">\n",
       "  <thead>\n",
       "    <tr style=\"text-align: right;\">\n",
       "      <th></th>\n",
       "      <th>Unnamed: 0</th>\n",
       "      <th>16-18</th>\n",
       "      <th>%16-18</th>\n",
       "      <th>19-21</th>\n",
       "      <th>%19-21</th>\n",
       "      <th>22-24</th>\n",
       "      <th>%22-24</th>\n",
       "      <th>Totals</th>\n",
       "      <th>%Total</th>\n",
       "    </tr>\n",
       "  </thead>\n",
       "  <tbody>\n",
       "    <tr>\n",
       "      <th>0</th>\n",
       "      <td>Opportunity Youth</td>\n",
       "      <td>1941.0</td>\n",
       "      <td>100.00</td>\n",
       "      <td>4361.0</td>\n",
       "      <td>100.00</td>\n",
       "      <td>5228.0</td>\n",
       "      <td>100.00</td>\n",
       "      <td>11530.0</td>\n",
       "      <td>100.00</td>\n",
       "    </tr>\n",
       "    <tr>\n",
       "      <th>1</th>\n",
       "      <td>No diploma</td>\n",
       "      <td>986.0</td>\n",
       "      <td>50.80</td>\n",
       "      <td>1180.0</td>\n",
       "      <td>27.06</td>\n",
       "      <td>1429.0</td>\n",
       "      <td>27.33</td>\n",
       "      <td>3595.0</td>\n",
       "      <td>31.18</td>\n",
       "    </tr>\n",
       "    <tr>\n",
       "      <th>2</th>\n",
       "      <td>HS diploma or GED</td>\n",
       "      <td>812.0</td>\n",
       "      <td>41.83</td>\n",
       "      <td>2448.0</td>\n",
       "      <td>56.13</td>\n",
       "      <td>2171.0</td>\n",
       "      <td>41.53</td>\n",
       "      <td>5431.0</td>\n",
       "      <td>47.10</td>\n",
       "    </tr>\n",
       "    <tr>\n",
       "      <th>3</th>\n",
       "      <td>Some College, no degree</td>\n",
       "      <td>143.0</td>\n",
       "      <td>7.37</td>\n",
       "      <td>601.0</td>\n",
       "      <td>13.78</td>\n",
       "      <td>1098.0</td>\n",
       "      <td>21.00</td>\n",
       "      <td>1842.0</td>\n",
       "      <td>15.98</td>\n",
       "    </tr>\n",
       "    <tr>\n",
       "      <th>4</th>\n",
       "      <td>Degree (Associate or higher)</td>\n",
       "      <td>0.0</td>\n",
       "      <td>0.00</td>\n",
       "      <td>132.0</td>\n",
       "      <td>3.03</td>\n",
       "      <td>530.0</td>\n",
       "      <td>10.14</td>\n",
       "      <td>662.0</td>\n",
       "      <td>5.74</td>\n",
       "    </tr>\n",
       "  </tbody>\n",
       "</table>\n",
       "</div>"
      ],
      "text/plain": [
       "                     Unnamed: 0   16-18  %16-18   19-21  %19-21   22-24  \\\n",
       "0             Opportunity Youth  1941.0  100.00  4361.0  100.00  5228.0   \n",
       "1                    No diploma   986.0   50.80  1180.0   27.06  1429.0   \n",
       "2             HS diploma or GED   812.0   41.83  2448.0   56.13  2171.0   \n",
       "3       Some College, no degree   143.0    7.37   601.0   13.78  1098.0   \n",
       "4  Degree (Associate or higher)     0.0    0.00   132.0    3.03   530.0   \n",
       "\n",
       "   %22-24   Totals  %Total  \n",
       "0  100.00  11530.0  100.00  \n",
       "1   27.33   3595.0   31.18  \n",
       "2   41.53   5431.0   47.10  \n",
       "3   21.00   1842.0   15.98  \n",
       "4   10.14    662.0    5.74  "
      ]
     },
     "execution_count": 11,
     "metadata": {},
     "output_type": "execute_result"
    }
   ],
   "source": [
    "df_oy_17"
   ]
  },
  {
   "cell_type": "code",
   "execution_count": 19,
   "metadata": {},
   "outputs": [],
   "source": [
    "oy_age_nd = {\n",
    "    '16-18': df_oy_17.loc[1,'%16-18'],\n",
    "    '19-21': df_oy_17.loc[1,'%19-21'],\n",
    "    '22-24': df_oy_17.loc[1,'%22-24'],\n",
    "    'Total': df_oy_17.loc[1,'%Total']}\n",
    "\n",
    "oy_age_hs = {\n",
    "    '16-18': df_oy_17.loc[2,'%16-18'],\n",
    "    '19-21': df_oy_17.loc[2,'%19-21'],\n",
    "    '22-24': df_oy_17.loc[2,'%22-24'],\n",
    "    'Total': df_oy_17.loc[2,'%Total']}\n",
    "\n",
    "oy_age_sc = {\n",
    "    '16-18': df_oy_17.loc[3,'%16-18'],\n",
    "    '19-21': df_oy_17.loc[3,'%19-21'],\n",
    "    '22-24': df_oy_17.loc[3,'%22-24'],\n",
    "    'Total': df_oy_17.loc[3,'%Total']}\n",
    "\n",
    "oy_age_yd = {\n",
    "    '16-18': df_oy_17.loc[4,'%16-18'],\n",
    "    '19-21': df_oy_17.loc[4,'%19-21'],\n",
    "    '22-24': df_oy_17.loc[4,'%22-24'],\n",
    "    'Total': df_oy_17.loc[4,'%Total']}\n"
   ]
  },
  {
   "cell_type": "markdown",
   "metadata": {},
   "source": [
    "### Percentage of Opportunity Youth, 2016 v. 2017 Chart"
   ]
  },
  {
   "cell_type": "markdown",
   "metadata": {},
   "source": [
    "#### In this graph we can see that the percentage of Opportunity Youth fell from 2016 to 2017. Which is further corroberated by the number of youth who are not Opportunity Youth being higher. "
   ]
  },
  {
   "cell_type": "code",
   "execution_count": 13,
   "metadata": {},
   "outputs": [
    {
     "data": {
      "image/png": "[encoded data removed]",
      "text/plain": [
       "<Figure size 720x360 with 1 Axes>"
      ]
     },
     "metadata": {
      "needs_background": "light"
     },
     "output_type": "display_data"
    }
   ],
   "source": [
    "n_groups = 3 \n",
    "data_2016 = (oy_age_totals_16['16-18'], oy_age_totals_16['19-21'], oy_age_totals_16['22-24']) \n",
    "data_2017 = (oy_age_totals['16-18'], oy_age_totals['19-21'], oy_age_totals['22-24']) \n",
    "\n",
    "index = np.arange(n_groups)\n",
    "bar_width = 0.40\n",
    "opacity = 0.7\n",
    "figure = plt.figure(figsize = (10,5))\n",
    "\n",
    "bar2016= plt.bar(index, data_2016, bar_width,\n",
    "alpha=opacity,\n",
    "color='c',\n",
    "label='2016')\n",
    "\n",
    "bar2017= plt.bar(index + bar_width, data_2017, bar_width,\n",
    "alpha=opacity,\n",
    "color='b',\n",
    "label='2017')\n",
    "\n",
    "plt.xlabel('Age Groups (years old)', fontsize=12)\n",
    "plt.ylabel('Percentage', fontsize=12)\n",
    "plt.title('Percentage of Opportunity Youth', fontsize=14)\n",
    "plt.xticks(index + bar_width/2, ('16-18', '19-21', '22-24'), fontsize=10)\n",
    "plt.ylim([0,20])\n",
    "plt.legend()\n",
    "\n",
    "plt.tight_layout()\n",
    "plt.show()\n",
    "figure.savefig('OY_total_2016_2017.png' ,dpi=300, bbox_inches='tight') "
   ]
  },
  {
   "cell_type": "markdown",
   "metadata": {},
   "source": [
    "### Total Not Opportunity Youth, 2016 v. 2017 Chart"
   ]
  },
  {
   "cell_type": "markdown",
   "metadata": {},
   "source": [
    "#### In the following graph we see a higher percentage of the youth population not falling in the Opportunity Youth category in 2017 than in 2016. This further supports our conclusion that there are more educational and/or work opportunities for youth in this area."
   ]
  },
  {
   "cell_type": "code",
   "execution_count": 70,
   "metadata": {},
   "outputs": [
    {
     "data": {
      "image/png": "[encoded data removed]",
      "text/plain": [
       "<Figure size 720x360 with 1 Axes>"
      ]
     },
     "metadata": {
      "needs_background": "light"
     },
     "output_type": "display_data"
    }
   ],
   "source": [
    "n_groups = 3\n",
    "data_2016 = (noy_age_totals_16['16-18'], noy_age_totals_16['19-21'], noy_age_totals_16['22-24']) \n",
    "data_2017 = (noy_age_totals['16-18'], noy_age_totals['19-21'], noy_age_totals['22-24']) \n",
    "\n",
    "index = np.arange(n_groups)\n",
    "bar_width = 0.40\n",
    "opacity = 0.7\n",
    "figure = plt.figure(figsize = (10,5))\n",
    "\n",
    "bar2016= plt.bar(index, data_2016, bar_width,\n",
    "alpha=opacity,\n",
    "color='c',\n",
    "label='2016')\n",
    "\n",
    "bar2017= plt.bar(index + bar_width, data_2017, bar_width,\n",
    "alpha=opacity,\n",
    "color='b',\n",
    "label='2017')\n",
    "\n",
    "plt.xlabel('Age Groups (years old)', fontsize=12)\n",
    "plt.ylabel('Percentage', fontsize=12)\n",
    "plt.title('Not Opportunity Youth', fontsize=14)\n",
    "plt.xticks(index + bar_width/2, ('16-18', '19-21', '22-24'), fontsize=10)\n",
    "plt.ylim([0,100])\n",
    "plt.legend(fontsize=8)\n",
    "\n",
    "plt.tight_layout()\n",
    "plt.show()\n",
    "figure.savefig('NOY_total_20162017.png',dpi=300, bbox_inches='tight') "
   ]
  },
  {
   "cell_type": "markdown",
   "metadata": {},
   "source": [
    "## Opportunity Youth Educational Attainment by Age Group"
   ]
  },
  {
   "cell_type": "markdown",
   "metadata": {},
   "source": [
    "#### Looking at the next few last graphs on educational attainment by Opportunity Youth (OY), we see that there is an increase in OY that have a high school degree.  This leads us to the conclusion that there are fewer youth with only a high school diploma or GED who are working, but instead, there are more youth with college experience and/or degrees who are working."
   ]
  },
  {
   "cell_type": "markdown",
   "metadata": {},
   "source": [
    "### Opportunity Youth: No Diploma, 2016 v. 2017 Chart"
   ]
  },
  {
   "cell_type": "code",
   "execution_count": 71,
   "metadata": {},
   "outputs": [
    {
     "data": {
      "image/png": "[encoded data removed]",
      "text/plain": [
       "<Figure size 720x360 with 1 Axes>"
      ]
     },
     "metadata": {
      "needs_background": "light"
     },
     "output_type": "display_data"
    }
   ],
   "source": [
    "n_groups = 3\n",
    "data_2016 = (oy_age_nd_16['16-18'], oy_age_nd_16['19-21'], oy_age_nd_16['22-24']) \n",
    "data_2017 = (oy_age_nd['16-18'], oy_age_nd['19-21'], oy_age_nd['22-24']) \n",
    "\n",
    "index = np.arange(n_groups)\n",
    "bar_width = 0.40\n",
    "opacity = 0.7\n",
    "figure = plt.figure(figsize = (10,5))\n",
    "\n",
    "bar2016= plt.bar(index, data_2016, bar_width,\n",
    "alpha=opacity,\n",
    "color='c',\n",
    "label='2016')\n",
    "\n",
    "bar2017= plt.bar(index + bar_width, data_2017, bar_width,\n",
    "alpha=opacity,\n",
    "color='b',\n",
    "label='2017')\n",
    "\n",
    "plt.xlabel('Age Groups (years old)', fontsize=12)\n",
    "plt.ylabel('Percentage', fontsize=12)\n",
    "plt.title('Opportunity Youth: No Diploma', fontsize=14)\n",
    "plt.xticks(index + bar_width/2, ('16-18', '19-21', '22-24'), fontsize=10)\n",
    "plt.ylim([0,60])\n",
    "plt.legend(fontsize = 9)\n",
    "\n",
    "plt.tight_layout()\n",
    "plt.show()\n",
    "\n",
    "figure.savefig('OY_ndiploma_20162017.png',dpi=300, bbox_inches='tight') \n"
   ]
  },
  {
   "cell_type": "markdown",
   "metadata": {},
   "source": [
    "#### We see that there are more Opportunity Youth with no diploma in the older age range, further showing that a higher education degree is needed for work. "
   ]
  },
  {
   "cell_type": "markdown",
   "metadata": {},
   "source": [
    "### Opportunity Youth: High School Diploma or GED Equivalent, 2016 v. 2017 Chart"
   ]
  },
  {
   "cell_type": "code",
   "execution_count": 75,
   "metadata": {},
   "outputs": [
    {
     "data": {
      "image/png": "[encoded data removed]",
      "text/plain": [
       "<Figure size 720x360 with 1 Axes>"
      ]
     },
     "metadata": {
      "needs_background": "light"
     },
     "output_type": "display_data"
    }
   ],
   "source": [
    "n_groups = 3\n",
    "data_2016 = (oy_age_hs_16['16-18'], oy_age_hs_16['19-21'], oy_age_hs_16['22-24']) \n",
    "data_2017 = (oy_age_hs['16-18'], oy_age_hs['19-21'], oy_age_hs['22-24']) \n",
    "\n",
    "index = np.arange(n_groups)\n",
    "bar_width = 0.40\n",
    "opacity = 0.7\n",
    "figure = plt.figure(figsize = (10,5))\n",
    "\n",
    "bar2016= plt.bar(index, data_2016, bar_width,\n",
    "alpha=opacity,\n",
    "color='c',\n",
    "label='2016')\n",
    "\n",
    "bar2017= plt.bar(index + bar_width, data_2017, bar_width,\n",
    "alpha=opacity,\n",
    "color='b',\n",
    "label='2017')\n",
    "\n",
    "plt.xlabel('Age Groups (years old)', fontsize=12)\n",
    "plt.ylabel('Percentage', fontsize=12)\n",
    "plt.title('Opportunity Youth: High School Diploma or GED Equivalent', fontsize=14)\n",
    "plt.xticks(index + bar_width/2, ('16-18', '19-21', '22-24'), fontsize=10)\n",
    "plt.ylim([0,60])\n",
    "plt.legend()\n",
    "\n",
    "plt.tight_layout()\n",
    "plt.show()\n",
    "\n",
    "figure.savefig('OY_HSGED_20162017.png',dpi=300, bbox_inches='tight') "
   ]
  },
  {
   "cell_type": "markdown",
   "metadata": {},
   "source": [
    "#### This chart shows us that there is an increase in youth ages 16-24 with only a high school diploma or GED who are not working. "
   ]
  },
  {
   "cell_type": "markdown",
   "metadata": {},
   "source": [
    "### Opportunity Youth: Some College but No Degree, 2016 v. 2017 Chart"
   ]
  },
  {
   "cell_type": "code",
   "execution_count": 21,
   "metadata": {},
   "outputs": [
    {
     "data": {
      "image/png": "[encoded data removed]",
      "text/plain": [
       "<Figure size 720x360 with 1 Axes>"
      ]
     },
     "metadata": {
      "needs_background": "light"
     },
     "output_type": "display_data"
    }
   ],
   "source": [
    "n_groups = 3\n",
    "data_2016 = (oy_age_sc_16['16-18'], oy_age_sc_16['19-21'], oy_age_sc_16['22-24'])\n",
    "data_2017 = (oy_age_sc['16-18'], oy_age_sc['19-21'], oy_age_sc['22-24'])\n",
    "\n",
    "index = np.arange(n_groups)\n",
    "bar_width = 0.40\n",
    "opacity = 0.7\n",
    "figure = plt.figure(figsize = (10,5))\n",
    "\n",
    "bar2016= plt.bar(index, data_2016, bar_width,\n",
    "alpha=opacity,\n",
    "color='c',\n",
    "label='2016')\n",
    "\n",
    "bar2017= plt.bar(index + bar_width, data_2017, bar_width,\n",
    "alpha=opacity,\n",
    "color='b',\n",
    "label='2017')\n",
    "\n",
    "plt.xlabel('Age Groups (years old)', fontsize=12)\n",
    "plt.ylabel('Percentage', fontsize=12)\n",
    "plt.title('Opportunity Youth: Some College, No Degree', fontsize=14)\n",
    "plt.xticks(index + bar_width/2, ('16-18', '19-21', '22-24'), fontsize=10)\n",
    "plt.ylim([0,60])\n",
    "plt.legend()\n",
    "\n",
    "plt.tight_layout()\n",
    "plt.show()\n",
    "\n",
    "figure.savefig('OY_College_ndegree_20162017.png',dpi=300, bbox_inches='tight') "
   ]
  },
  {
   "cell_type": "markdown",
   "metadata": {},
   "source": [
    "#### We begin to see a decrease in Opportunity Youth who have some college, and no degree. This tells us that higher degree education is becoming more important for employment. As we will see in the following graph, this trend continues downward. "
   ]
  },
  {
   "cell_type": "markdown",
   "metadata": {},
   "source": [
    "### Opportunity Youth: Degree(Associates or higher), 2016 v. 2017 Chart"
   ]
  },
  {
   "cell_type": "code",
   "execution_count": 77,
   "metadata": {},
   "outputs": [
    {
     "data": {
      "image/png": "[encoded data removed]",
      "text/plain": [
       "<Figure size 720x360 with 1 Axes>"
      ]
     },
     "metadata": {
      "needs_background": "light"
     },
     "output_type": "display_data"
    }
   ],
   "source": [
    "n_groups = 3\n",
    "data_2016 = (oy_age_yd_16['16-18'], oy_age_yd_16['19-21'], oy_age_yd_16['22-24']) \n",
    "data_2017 = (oy_age_yd['16-18'], oy_age_yd['19-21'], oy_age_yd['22-24']) \n",
    "\n",
    "index = np.arange(n_groups)\n",
    "bar_width = 0.40\n",
    "opacity = 0.7\n",
    "figure = plt.figure(figsize = (10,5))\n",
    "\n",
    "bar2016= plt.bar(index, data_2016, bar_width,\n",
    "alpha=opacity,\n",
    "color='c',\n",
    "label='2016')\n",
    "\n",
    "bar2017= plt.bar(index + bar_width, data_2017, bar_width,\n",
    "alpha=opacity,\n",
    "color='b',\n",
    "label='2017')\n",
    "\n",
    "plt.xlabel('Age Groups (years old)', fontsize=12)\n",
    "plt.ylabel('Percentage', fontsize=12)\n",
    "plt.title('Opportunity Youth: Degree (AA or higher)', fontsize=14)\n",
    "plt.xticks(index + bar_width/2, ('16-18', '19-21', '22-24'), fontsize=10)\n",
    "plt.ylim([0,60])\n",
    "plt.legend()\n",
    "\n",
    "plt.tight_layout()\n",
    "plt.show()\n",
    "\n",
    "figure.savefig('OY_degree_20162017.png',dpi=300, bbox_inches='tight') "
   ]
  },
  {
   "cell_type": "markdown",
   "metadata": {},
   "source": [
    "#### This graph shows a continued decrease in Opportunity Youth once they receive a college degree.  There is also a significal drop from 2016 to 2017 Opportunity Youth among the 22-24 year olds."
   ]
  },
  {
   "cell_type": "markdown",
   "metadata": {},
   "source": [
    "## Trends Comparison: Opportunity Youth 2016 v. 2017 \n",
    "\n",
    "#### We chose to do this line chart to better showcase the donward trend seen in the 2016 and 2017 results. Given that the 2016 and 2017 sample population size differed, we chose to show these results in percentage to provide a more accurate comparison between the two years.\n",
    "\n",
    "#### The percentage of Opportunity Youth(OY) at each educational attainment marker include the total OY population."
   ]
  },
  {
   "cell_type": "code",
   "execution_count": 18,
   "metadata": {},
   "outputs": [
    {
     "data": {
      "image/png": "[encoded data removed]",
      "text/plain": [
       "<Figure size 720x360 with 1 Axes>"
      ]
     },
     "metadata": {
      "needs_background": "light"
     },
     "output_type": "display_data"
    }
   ],
   "source": [
    "data_2016 = (oy_age_nd_16['Total'], oy_age_hs_16['Total'], oy_age_sc_16['Total'],\n",
    "oy_age_yd_16['Total']) \n",
    "\n",
    "data_2017 = (oy_age_nd['Total'], oy_age_hs['Total'], oy_age_sc['Total'],\n",
    "oy_age_yd['Total']) \n",
    "\n",
    "column = ('No Diploma', 'High School/GED', 'Some College', 'Degree')\n",
    "opacity = 0.7\n",
    "figure = plt.figure(figsize = (10,5))\n",
    "\n",
    "plt.plot(column, data_2016, marker='o', label = '2016', alpha=opacity,\n",
    "color='c')\n",
    "plt.plot(column, data_2017, marker='o', label = '2017', alpha=opacity,\n",
    "color='b')\n",
    "\n",
    "plt.title('Opportunity Youth(OY) Education Trend, 2016 v 2017', fontsize=16)\n",
    "plt.xlabel('Education Attained', fontsize=14)\n",
    "plt.ylabel('Percentage of OY', fontsize=14)\n",
    "plt.legend(fontsize = 9)\n",
    "plt.xticks(fontsize = 11)\n",
    "plt.yticks(fontsize = 11)\n",
    "plt.ylim([0,60])\n",
    "plt.grid(False)\n",
    "plt.show()\n"
   ]
  },
  {
   "cell_type": "code",
   "execution_count": 20,
   "metadata": {},
   "outputs": [],
   "source": [
    "figure.savefig('OY_ed_trend_20162017.png',dpi=100, bbox_inches='tight') "
   ]
  },
  {
   "cell_type": "markdown",
   "metadata": {},
   "source": [
    "### 2016 v 2017 Education Trend"
   ]
  },
  {
   "cell_type": "markdown",
   "metadata": {},
   "source": [
    "#### As can be seen in this graph, the education attainment between the 2016 and 2017 Opportunity Youth(OY) is similar in the direction of its trend. \n",
    "\n",
    "#### From high school diploma/GED attainment, we see a continuing downward trend all the way through higher education degrees. There is a significant dip in the percentage of OY that attended some college but did not finish to receive a degree. We see that this percentage and the degree attainment category are both lower in 2017 than it was in 2016.  \n",
    "\n",
    "#### There are less youth that fall into the opportunity youth category in post-secondary education.  \n",
    "\n",
    "#### The reasons there are less OY can be explained by more people in this age bracket staying in college and/or are working and therefore no longer being counted as opportunity youth.  \n",
    "\n",
    "#### With more jobs requiring higher education and there being an influx of higher skilled labor in this region, youth who have a college degree can find work and so will not fall into the OY category. "
   ]
  },
  {
   "cell_type": "code",
   "execution_count": null,
   "metadata": {},
   "outputs": [],
   "source": []
  }
 ],
 "metadata": {
  "kernelspec": {
   "display_name": "Python 3 (oy-env)",
   "language": "python",
   "name": "oy-env"
  },
  "language_info": {
   "codemirror_mode": {
    "name": "ipython",
    "version": 3
   },
   "file_extension": ".py",
   "mimetype": "text/x-python",
   "name": "python",
   "nbconvert_exporter": "python",
   "pygments_lexer": "ipython3",
   "version": "3.8.1"
  }
 },
 "nbformat": 4,
 "nbformat_minor": 4
}
